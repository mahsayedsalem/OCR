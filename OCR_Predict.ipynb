{
 "cells": [
  {
   "cell_type": "code",
   "execution_count": 1,
   "metadata": {},
   "outputs": [
    {
     "name": "stderr",
     "output_type": "stream",
     "text": [
      "C:\\Users\\mahssalem\\Anaconda3\\envs\\myEnv\\lib\\site-packages\\h5py\\__init__.py:36: FutureWarning: Conversion of the second argument of issubdtype from `float` to `np.floating` is deprecated. In future, it will be treated as `np.float64 == np.dtype(float).type`.\n",
      "  from ._conv import register_converters as _register_converters\n",
      "Using TensorFlow backend.\n"
     ]
    }
   ],
   "source": [
    "from tqdm import tqdm\n",
    "import os\n",
    "from keras.models import Sequential\n",
    "from keras.layers import Dense\n",
    "from keras.layers import Dropout\n",
    "from keras.layers import Flatten\n",
    "from keras.layers.convolutional import Conv2D\n",
    "from keras.layers.convolutional import MaxPooling2D\n",
    "from keras import backend as K\n",
    "from keras.utils import np_utils\n",
    "from sklearn.model_selection import train_test_split\n",
    "import numpy as np\n",
    "import cv2"
   ]
  },
  {
   "cell_type": "code",
   "execution_count": 2,
   "metadata": {},
   "outputs": [
    {
     "name": "stderr",
     "output_type": "stream",
     "text": [
      "100%|████████████████████████████████████████████████████████████████████████████████████| 4/4 [00:00<00:00, 10.90it/s]\n"
     ]
    }
   ],
   "source": [
    "directory = 'Segmented_Letters/'\n",
    "IMG_SIZE = 28\n",
    "Full_data = []\n",
    "for img in tqdm(os.listdir(directory)):\n",
    "        \n",
    "        WHITE = (255,255,255)\n",
    "        path = os.path.join(directory, img)\n",
    "        img = cv2.imread(path)\n",
    "        img = cv2.copyMakeBorder(img,68,68,68,68,cv2.BORDER_CONSTANT,value=WHITE)\n",
    "        img = cv2.resize(img, (IMG_SIZE, IMG_SIZE))\n",
    "        gray_image = cv2.cvtColor(img, cv2.COLOR_BGR2GRAY)\n",
    "        ret,thresh_img = cv2.threshold(gray_image,127,255,cv2.THRESH_BINARY)\n",
    "        imagem = cv2.bitwise_not(thresh_img)\n",
    "        Full_data.append([np.array(imagem)])"
   ]
  },
  {
   "cell_type": "code",
   "execution_count": 3,
   "metadata": {},
   "outputs": [
    {
     "data": {
      "text/plain": [
       "4"
      ]
     },
     "execution_count": 3,
     "metadata": {},
     "output_type": "execute_result"
    }
   ],
   "source": [
    "len(Full_data)"
   ]
  },
  {
   "cell_type": "code",
   "execution_count": 4,
   "metadata": {},
   "outputs": [
    {
     "name": "stdout",
     "output_type": "stream",
     "text": [
      "Loaded model from disk\n"
     ]
    }
   ],
   "source": [
    "# load json and create model\n",
    "from keras.models import model_from_json\n",
    "json_file = open('model.json', 'r')\n",
    "loaded_model_json = json_file.read()\n",
    "json_file.close()\n",
    "loaded_model = model_from_json(loaded_model_json)\n",
    "# load weights into new model\n",
    "loaded_model.load_weights(\"model.h5\")\n",
    "print(\"Loaded model from disk\")\n",
    " \n",
    "# evaluate loaded model on test data\n",
    "loaded_model.compile(loss='binary_crossentropy', optimizer='rmsprop', metrics=['accuracy'])"
   ]
  },
  {
   "cell_type": "code",
   "execution_count": 5,
   "metadata": {},
   "outputs": [],
   "source": [
    "full_data = np.array(Full_data)"
   ]
  },
  {
   "cell_type": "code",
   "execution_count": 6,
   "metadata": {},
   "outputs": [],
   "source": [
    "full_data = full_data.reshape(full_data.shape[0], 28,28,1)"
   ]
  },
  {
   "cell_type": "code",
   "execution_count": 7,
   "metadata": {},
   "outputs": [
    {
     "data": {
      "text/plain": [
       "32"
      ]
     },
     "execution_count": 7,
     "metadata": {},
     "output_type": "execute_result"
    }
   ],
   "source": [
    "cv2.imshow('ImageWindow', full_data[0])\n",
    "cv2.waitKey()"
   ]
  },
  {
   "cell_type": "code",
   "execution_count": 8,
   "metadata": {},
   "outputs": [],
   "source": [
    "result = loaded_model.predict(full_data)"
   ]
  },
  {
   "cell_type": "code",
   "execution_count": 9,
   "metadata": {},
   "outputs": [],
   "source": [
    "def decode(datum):\n",
    "    return np.argmax(datum)"
   ]
  },
  {
   "cell_type": "code",
   "execution_count": 10,
   "metadata": {
    "scrolled": true
   },
   "outputs": [
    {
     "name": "stdout",
     "output_type": "stream",
     "text": [
      "Letter: B\n",
      "\n",
      "Letter: A\n",
      "\n",
      "Letter: E\n",
      "\n",
      "Letter: L\n",
      "\n"
     ]
    }
   ],
   "source": [
    "for i in range(result.shape[0]):\n",
    "    datum = result[i]\n",
    "    ret = ''\n",
    "    decoded_datum = decode(result[i])\n",
    "    \n",
    "    if decoded_datum==0:\n",
    "        ret = 'A'\n",
    "    elif decoded_datum ==1:\n",
    "        ret = 'B'\n",
    "    elif decoded_datum ==2:\n",
    "        ret = 'C'\n",
    "    elif decoded_datum ==3:\n",
    "        ret = 'D'\n",
    "    elif decoded_datum ==4:\n",
    "        ret = 'E'\n",
    "    elif decoded_datum ==5:\n",
    "        ret = 'F'\n",
    "    elif decoded_datum ==6:\n",
    "        ret = 'G'\n",
    "    elif decoded_datum ==7:\n",
    "        ret = 'H'\n",
    "    elif decoded_datum ==8:\n",
    "        ret = 'I'\n",
    "    elif decoded_datum ==9:\n",
    "        ret = 'J'\n",
    "    elif decoded_datum ==10:\n",
    "        ret = 'K'\n",
    "    elif decoded_datum ==11:\n",
    "        ret = 'L'\n",
    "    elif decoded_datum ==12:\n",
    "        ret = 'M'\n",
    "    elif decoded_datum ==13:\n",
    "        ret = 'N'\n",
    "    elif decoded_datum ==14:\n",
    "        ret = 'O'\n",
    "    elif decoded_datum ==15:\n",
    "        ret = 'P'\n",
    "    elif decoded_datum ==16:\n",
    "        ret = 'Q'\n",
    "    elif decoded_datum ==17:\n",
    "        ret = 'R'\n",
    "    elif decoded_datum ==18:\n",
    "        ret = 'S'\n",
    "    elif decoded_datum ==19:\n",
    "        ret = 'T'\n",
    "    elif decoded_datum ==20:\n",
    "        ret = 'U'\n",
    "    elif decoded_datum ==21:\n",
    "        ret = 'V'\n",
    "    elif decoded_datum ==22:\n",
    "        ret = 'W'\n",
    "    elif decoded_datum ==23:\n",
    "        ret = 'X'\n",
    "    elif decoded_datum ==24:\n",
    "        ret = 'Y'\n",
    "    elif decoded_datum ==25:\n",
    "        ret = 'Z'\n",
    "    print('Letter: %s' % ret)\n",
    "    print()"
   ]
  },
  {
   "cell_type": "code",
   "execution_count": 11,
   "metadata": {},
   "outputs": [
    {
     "data": {
      "text/plain": [
       "-1"
      ]
     },
     "execution_count": 11,
     "metadata": {},
     "output_type": "execute_result"
    }
   ],
   "source": [
    "cv2.imshow('ImageWindow', full_data[3])\n",
    "cv2.waitKey()"
   ]
  },
  {
   "cell_type": "code",
   "execution_count": null,
   "metadata": {},
   "outputs": [],
   "source": []
  }
 ],
 "metadata": {
  "kernelspec": {
   "display_name": "Python 3",
   "language": "python",
   "name": "python3"
  },
  "language_info": {
   "codemirror_mode": {
    "name": "ipython",
    "version": 3
   },
   "file_extension": ".py",
   "mimetype": "text/x-python",
   "name": "python",
   "nbconvert_exporter": "python",
   "pygments_lexer": "ipython3",
   "version": "3.5.4"
  }
 },
 "nbformat": 4,
 "nbformat_minor": 2
}
